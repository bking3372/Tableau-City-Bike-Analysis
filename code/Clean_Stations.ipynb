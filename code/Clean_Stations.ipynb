{
 "cells": [
  {
   "cell_type": "code",
   "execution_count": null,
   "metadata": {},
   "outputs": [],
   "source": [
    "import pandas as pd\n",
    "import numpy as np\n",
    "import datetime as dt"
   ]
  },
  {
   "cell_type": "code",
   "execution_count": null,
   "metadata": {},
   "outputs": [],
   "source": [
    "#Read in cleaned yearly data\n",
    "data = \"CB_Data/2017_cbtd_cln.csv\"\n",
    "df = pd.read_csv(data)"
   ]
  },
  {
   "cell_type": "code",
   "execution_count": null,
   "metadata": {},
   "outputs": [],
   "source": [
    "df.head()"
   ]
  },
  {
   "cell_type": "code",
   "execution_count": null,
   "metadata": {},
   "outputs": [],
   "source": [
    "#unique number of start station ids\n",
    "df['start station id'].nunique()"
   ]
  },
  {
   "cell_type": "code",
   "execution_count": null,
   "metadata": {},
   "outputs": [],
   "source": [
    "#unique number of start station names\n",
    "df['start station name'].nunique()"
   ]
  },
  {
   "cell_type": "code",
   "execution_count": null,
   "metadata": {},
   "outputs": [],
   "source": [
    "#unique number of end station ids\n",
    "df['end station id'].nunique()"
   ]
  },
  {
   "cell_type": "code",
   "execution_count": null,
   "metadata": {},
   "outputs": [],
   "source": [
    "#unique number of end station names\n",
    "df['end station name'].nunique()"
   ]
  },
  {
   "cell_type": "code",
   "execution_count": null,
   "metadata": {},
   "outputs": [],
   "source": [
    "#determine duplicate start station ids\n",
    "uniq = df.groupby(['start station id', 'start station name']).size().reset_index(name='Freq')"
   ]
  },
  {
   "cell_type": "code",
   "execution_count": null,
   "metadata": {},
   "outputs": [],
   "source": [
    "DupID = uniq[uniq.duplicated([\"start station id\"])]\n",
    "DupID"
   ]
  },
  {
   "cell_type": "code",
   "execution_count": null,
   "metadata": {},
   "outputs": [],
   "source": [
    "#look at different names for duplicate ids\n",
    "only_468 = uniq.loc[uniq[\"start station id\"] == 468, :]\n",
    "only_468"
   ]
  },
  {
   "cell_type": "code",
   "execution_count": null,
   "metadata": {},
   "outputs": [],
   "source": [
    "only_493 = uniq.loc[uniq[\"start station id\"] == 493, :]\n",
    "only_493"
   ]
  },
  {
   "cell_type": "code",
   "execution_count": null,
   "metadata": {},
   "outputs": [],
   "source": [
    "only_533 = uniq.loc[uniq[\"start station id\"] == 533, :]\n",
    "only_533"
   ]
  },
  {
   "cell_type": "code",
   "execution_count": null,
   "metadata": {},
   "outputs": [],
   "source": [
    "only_3040 = uniq.loc[uniq[\"start station id\"] == 3040, :]\n",
    "only_3040"
   ]
  },
  {
   "cell_type": "code",
   "execution_count": null,
   "metadata": {},
   "outputs": [],
   "source": [
    "only_3111 = uniq.loc[uniq[\"start station id\"] == 3111, :]\n",
    "only_3111"
   ]
  },
  {
   "cell_type": "code",
   "execution_count": null,
   "metadata": {},
   "outputs": [],
   "source": [
    "only_3245 = uniq.loc[uniq[\"start station id\"] == 3245, :]\n",
    "only_3245"
   ]
  },
  {
   "cell_type": "code",
   "execution_count": null,
   "metadata": {},
   "outputs": [],
   "source": [
    "only_3263 = uniq.loc[uniq[\"start station id\"] == 3263, :]\n",
    "only_3263"
   ]
  },
  {
   "cell_type": "code",
   "execution_count": null,
   "metadata": {},
   "outputs": [],
   "source": [
    "only_3285 = uniq.loc[uniq[\"start station id\"] == 3285, :]\n",
    "only_3285"
   ]
  },
  {
   "cell_type": "code",
   "execution_count": null,
   "metadata": {},
   "outputs": [],
   "source": [
    "only_3425 = uniq.loc[uniq[\"start station id\"] == 3425, :]\n",
    "only_3425"
   ]
  },
  {
   "cell_type": "code",
   "execution_count": null,
   "metadata": {},
   "outputs": [],
   "source": [
    "only_3470 = uniq.loc[uniq[\"start station id\"] == 3470, :]\n",
    "only_3470"
   ]
  },
  {
   "cell_type": "code",
   "execution_count": null,
   "metadata": {},
   "outputs": [],
   "source": [
    "#determine duplicate end station ids\n",
    "uniqE = df.groupby(['end station id', 'end station name']).size().reset_index(name='Freq')"
   ]
  },
  {
   "cell_type": "code",
   "execution_count": null,
   "metadata": {},
   "outputs": [],
   "source": [
    "DupIDE = uniqE[uniqE.duplicated([\"end station id\"])]\n",
    "DupIDE"
   ]
  },
  {
   "cell_type": "code",
   "execution_count": null,
   "metadata": {},
   "outputs": [],
   "source": [
    "#look at different names for duplicate ids\n",
    "only_475 = uniqE.loc[uniqE[\"end station id\"] == 475, :]\n",
    "only_475"
   ]
  },
  {
   "cell_type": "code",
   "execution_count": null,
   "metadata": {},
   "outputs": [],
   "source": [
    "only_3197 = uniqE.loc[uniqE[\"end station id\"] == 3197, :]\n",
    "only_3197"
   ]
  },
  {
   "cell_type": "code",
   "execution_count": null,
   "metadata": {},
   "outputs": [],
   "source": [
    "only_3480 = uniqE.loc[uniqE[\"end station id\"] == 3480, :]\n",
    "only_3480"
   ]
  },
  {
   "cell_type": "code",
   "execution_count": null,
   "metadata": {},
   "outputs": [],
   "source": [
    "#For stations with duplicate IDs but different names, update names to match\n",
    "df.loc[df['start station id'] == 468, 'start station name'] = \"Broadway & W 56 St\"\n",
    "df.loc[df['end station id'] == 468, 'end station name'] = \"Broadway & W 56 St\""
   ]
  },
  {
   "cell_type": "code",
   "execution_count": null,
   "metadata": {},
   "outputs": [],
   "source": [
    "df.loc[df['start station id'] == 493, 'start station name'] = \"W 45 St & 6 Ave\"\n",
    "df.loc[df['end station id'] == 493, 'end station name'] = \"W 45 St & 6 Ave\""
   ]
  },
  {
   "cell_type": "code",
   "execution_count": null,
   "metadata": {},
   "outputs": [],
   "source": [
    "df.loc[df['start station id'] == 533, 'start station name'] = \"Broadway & W 38 St\"\n",
    "df.loc[df['end station id'] == 533, 'end station name'] = \"Broadway & W 38 St\""
   ]
  },
  {
   "cell_type": "code",
   "execution_count": null,
   "metadata": {},
   "outputs": [],
   "source": [
    "df.loc[df['start station id'] == 3040, 'start station name'] = \"Handlebar @ Gowanus\"\n",
    "df.loc[df['end station id'] == 3040, 'end station name'] = \"Handlebar @ Gowanus\""
   ]
  },
  {
   "cell_type": "code",
   "execution_count": null,
   "metadata": {},
   "outputs": [],
   "source": [
    "df.loc[df['start station id'] == 3111, 'start station name'] = \"Norman Ave & Leonard St\"\n",
    "df.loc[df['end station id'] == 3111, 'end station name'] = \"Norman Ave & Leonard St\""
   ]
  },
  {
   "cell_type": "code",
   "execution_count": null,
   "metadata": {},
   "outputs": [],
   "source": [
    "df.loc[df['start station id'] == 3245, 'start station name'] = \"NYCBS DEPOT - DELANCEY\"\n",
    "df.loc[df['end station id'] == 3245, 'end station name'] = \"NYCBS DEPOT - DELANCEY\""
   ]
  },
  {
   "cell_type": "code",
   "execution_count": null,
   "metadata": {},
   "outputs": [],
   "source": [
    "df.loc[df['start station id'] == 3263, 'start station name'] = \"Cooper Square & Astor Pl\"\n",
    "df.loc[df['end station id'] == 3263, 'end station name'] = \"Cooper Square & Astor Pl\""
   ]
  },
  {
   "cell_type": "code",
   "execution_count": null,
   "metadata": {},
   "outputs": [],
   "source": [
    "df.loc[df['start station id'] == 3285, 'start station name'] = \"W 87 St & Amsterdam Ave\"\n",
    "df.loc[df['end station id'] == 3285, 'end station name'] = \"W 87 St & Amsterdam Ave\""
   ]
  },
  {
   "cell_type": "code",
   "execution_count": null,
   "metadata": {},
   "outputs": [],
   "source": [
    "df.loc[df['start station id'] == 3425, 'start station name'] = \"2 Ave & E 104 St\"\n",
    "df.loc[df['end station id'] == 3425, 'end station name'] = \"2 Ave & E 104 St\""
   ]
  },
  {
   "cell_type": "code",
   "execution_count": null,
   "metadata": {},
   "outputs": [],
   "source": [
    "df.loc[df['start station id'] == 475, 'start station name'] = \"E 16 St & Irving Pl\"\n",
    "df.loc[df['end station id'] == 475, 'end station name'] = \"E 16 St & Irving Pl\""
   ]
  },
  {
   "cell_type": "code",
   "execution_count": null,
   "metadata": {},
   "outputs": [],
   "source": [
    "index_names = df[ (df['start station id'] == 3470)].index\n",
    "df.drop(index_names, inplace = True)"
   ]
  },
  {
   "cell_type": "code",
   "execution_count": null,
   "metadata": {},
   "outputs": [],
   "source": [
    "#export cleaned file\n",
    "output_data_file = \"CB_Data/2017_cbtd_cln.csv\""
   ]
  },
  {
   "cell_type": "code",
   "execution_count": null,
   "metadata": {},
   "outputs": [],
   "source": [
    "df.to_csv(output_data_file, index=False, header=True)"
   ]
  }
 ],
 "metadata": {
  "kernelspec": {
   "display_name": "Python 3",
   "language": "python",
   "name": "python3"
  },
  "language_info": {
   "codemirror_mode": {
    "name": "ipython",
    "version": 3
   },
   "file_extension": ".py",
   "mimetype": "text/x-python",
   "name": "python",
   "nbconvert_exporter": "python",
   "pygments_lexer": "ipython3",
   "version": "3.7.6"
  }
 },
 "nbformat": 4,
 "nbformat_minor": 4
}
